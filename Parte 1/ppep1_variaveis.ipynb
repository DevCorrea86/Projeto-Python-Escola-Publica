{
  "nbformat": 4,
  "nbformat_minor": 0,
  "metadata": {
    "colab": {
      "provenance": [],
      "toc_visible": true,
      "authorship_tag": "ABX9TyPZ93czowp2LPmqFTe4vb/0",
      "include_colab_link": true
    },
    "kernelspec": {
      "name": "python3",
      "display_name": "Python 3"
    },
    "language_info": {
      "name": "python"
    }
  },
  "cells": [
    {
      "cell_type": "markdown",
      "metadata": {
        "id": "view-in-github",
        "colab_type": "text"
      },
      "source": [
        "<a href=\"https://colab.research.google.com/github/DevCorrea86/Projeto-Python-Escola-Publica/blob/Python/Parte%201/ppep1_variaveis.ipynb\" target=\"_parent\"><img src=\"https://colab.research.google.com/assets/colab-badge.svg\" alt=\"Open In Colab\"/></a>"
      ]
    },
    {
      "cell_type": "markdown",
      "source": [
        "# Variáveis\n",
        "\n",
        "descrição doq são var"
      ],
      "metadata": {
        "id": "kDKbplXG7HYg"
      }
    },
    {
      "cell_type": "markdown",
      "source": [
        "## 1. Regras nomenclatura das variáveis\n",
        "\n",
        "\n",
        "*   Os nomes das variáveis devem conter apenas letras, números e _undescore_ ( _ ). Porém devem comecar apenas com letras ou _undescore_ não por um número.\n",
        "\n",
        "  **EX:** idade, nome, nota_1 , novo_endereco.\n",
        "*   Espaços não são aceitos, no lugar use sempre _undescore_ (boa prática). Evite também palavras **reservadas** do Python, pois as mesmasjá são utilizadas para outras funcionalidades.\n",
        "\n",
        "\n",
        "<center><img src=\"data:image/jpeg;base64,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\"/></center>\n",
        "\n",
        "*    Evite usar l minúsculo e O maiscúlo para não serem confundidos com os números *1* e *0*.\n",
        "*    Procure dar nomes curtos mas que represente a variável a ser nomeada.\n",
        "\n",
        "  **EX:** nome é melhor q n, nome_pai é melhor que nome_do_pai, etc.\n"
      ],
      "metadata": {
        "id": "g100Vdsz8a-r"
      }
    },
    {
      "cell_type": "code",
      "source": [],
      "metadata": {
        "id": "OgWtEKi1FfLT"
      },
      "execution_count": null,
      "outputs": []
    },
    {
      "cell_type": "code",
      "source": [
        "# Teste X\n",
        "nome = input('Qual o seu nome? ')\n",
        "idade = input('Qual a sua idade? ')\n",
        "print(f'Olá {nome}, legal saber que você tem {idade} anos!')"
      ],
      "metadata": {
        "colab": {
          "base_uri": "https://localhost:8080/",
          "height": 380
        },
        "id": "bDpSIZt38aoY",
        "outputId": "526d0a93-4290-4d9a-ffd6-7ab0013252a1"
      },
      "execution_count": 5,
      "outputs": [
        {
          "output_type": "error",
          "ename": "KeyboardInterrupt",
          "evalue": "ignored",
          "traceback": [
            "\u001b[0;31m---------------------------------------------------------------------------\u001b[0m",
            "\u001b[0;31mKeyboardInterrupt\u001b[0m                         Traceback (most recent call last)",
            "\u001b[0;32m<ipython-input-5-88c2d25c2e11>\u001b[0m in \u001b[0;36m<cell line: 1>\u001b[0;34m()\u001b[0m\n\u001b[0;32m----> 1\u001b[0;31m \u001b[0mnome\u001b[0m \u001b[0;34m=\u001b[0m \u001b[0minput\u001b[0m\u001b[0;34m(\u001b[0m\u001b[0;34m'Qual o seu nome? '\u001b[0m\u001b[0;34m)\u001b[0m\u001b[0;34m\u001b[0m\u001b[0;34m\u001b[0m\u001b[0m\n\u001b[0m\u001b[1;32m      2\u001b[0m \u001b[0midade\u001b[0m \u001b[0;34m=\u001b[0m \u001b[0minput\u001b[0m\u001b[0;34m(\u001b[0m\u001b[0;34m'Qual a sua idade? '\u001b[0m\u001b[0;34m)\u001b[0m\u001b[0;34m\u001b[0m\u001b[0;34m\u001b[0m\u001b[0m\n\u001b[1;32m      3\u001b[0m \u001b[0mprint\u001b[0m\u001b[0;34m(\u001b[0m\u001b[0;34mf'Olá {nome}, legal saber que você tem {idade} anos!'\u001b[0m\u001b[0;34m)\u001b[0m\u001b[0;34m\u001b[0m\u001b[0;34m\u001b[0m\u001b[0m\n",
            "\u001b[0;32m/usr/local/lib/python3.10/dist-packages/ipykernel/kernelbase.py\u001b[0m in \u001b[0;36mraw_input\u001b[0;34m(self, prompt)\u001b[0m\n\u001b[1;32m    849\u001b[0m                 \u001b[0;34m\"raw_input was called, but this frontend does not support input requests.\"\u001b[0m\u001b[0;34m\u001b[0m\u001b[0;34m\u001b[0m\u001b[0m\n\u001b[1;32m    850\u001b[0m             )\n\u001b[0;32m--> 851\u001b[0;31m         return self._input_request(str(prompt),\n\u001b[0m\u001b[1;32m    852\u001b[0m             \u001b[0mself\u001b[0m\u001b[0;34m.\u001b[0m\u001b[0m_parent_ident\u001b[0m\u001b[0;34m,\u001b[0m\u001b[0;34m\u001b[0m\u001b[0;34m\u001b[0m\u001b[0m\n\u001b[1;32m    853\u001b[0m             \u001b[0mself\u001b[0m\u001b[0;34m.\u001b[0m\u001b[0m_parent_header\u001b[0m\u001b[0;34m,\u001b[0m\u001b[0;34m\u001b[0m\u001b[0;34m\u001b[0m\u001b[0m\n",
            "\u001b[0;32m/usr/local/lib/python3.10/dist-packages/ipykernel/kernelbase.py\u001b[0m in \u001b[0;36m_input_request\u001b[0;34m(self, prompt, ident, parent, password)\u001b[0m\n\u001b[1;32m    893\u001b[0m             \u001b[0;32mexcept\u001b[0m \u001b[0mKeyboardInterrupt\u001b[0m\u001b[0;34m:\u001b[0m\u001b[0;34m\u001b[0m\u001b[0;34m\u001b[0m\u001b[0m\n\u001b[1;32m    894\u001b[0m                 \u001b[0;31m# re-raise KeyboardInterrupt, to truncate traceback\u001b[0m\u001b[0;34m\u001b[0m\u001b[0;34m\u001b[0m\u001b[0m\n\u001b[0;32m--> 895\u001b[0;31m                 \u001b[0;32mraise\u001b[0m \u001b[0mKeyboardInterrupt\u001b[0m\u001b[0;34m(\u001b[0m\u001b[0;34m\"Interrupted by user\"\u001b[0m\u001b[0;34m)\u001b[0m \u001b[0;32mfrom\u001b[0m \u001b[0;32mNone\u001b[0m\u001b[0;34m\u001b[0m\u001b[0;34m\u001b[0m\u001b[0m\n\u001b[0m\u001b[1;32m    896\u001b[0m             \u001b[0;32mexcept\u001b[0m \u001b[0mException\u001b[0m \u001b[0;32mas\u001b[0m \u001b[0me\u001b[0m\u001b[0;34m:\u001b[0m\u001b[0;34m\u001b[0m\u001b[0;34m\u001b[0m\u001b[0m\n\u001b[1;32m    897\u001b[0m                 \u001b[0mself\u001b[0m\u001b[0;34m.\u001b[0m\u001b[0mlog\u001b[0m\u001b[0;34m.\u001b[0m\u001b[0mwarning\u001b[0m\u001b[0;34m(\u001b[0m\u001b[0;34m\"Invalid Message:\"\u001b[0m\u001b[0;34m,\u001b[0m \u001b[0mexc_info\u001b[0m\u001b[0;34m=\u001b[0m\u001b[0;32mTrue\u001b[0m\u001b[0;34m)\u001b[0m\u001b[0;34m\u001b[0m\u001b[0;34m\u001b[0m\u001b[0m\n",
            "\u001b[0;31mKeyboardInterrupt\u001b[0m: Interrupted by user"
          ]
        }
      ]
    },
    {
      "cell_type": "code",
      "source": [
        "# variável chamada idade atribuído o valor 17\n",
        "\n",
        "idade = 17\n",
        "\n",
        "print(idade)"
      ],
      "metadata": {
        "colab": {
          "base_uri": "https://localhost:8080/"
        },
        "id": "Z9kMt7Vu7E7y",
        "outputId": "0b1a609c-a468-41fc-9e3b-3aa640780354"
      },
      "execution_count": 2,
      "outputs": [
        {
          "output_type": "stream",
          "name": "stdout",
          "text": [
            "17\n"
          ]
        }
      ]
    },
    {
      "cell_type": "code",
      "execution_count": null,
      "metadata": {
        "id": "k1ASLV6a5aYa"
      },
      "outputs": [],
      "source": [
        "nome = 'Júlio'\n"
      ]
    }
  ]
}